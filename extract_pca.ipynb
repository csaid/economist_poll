{
 "cells": [
  {
   "cell_type": "code",
   "execution_count": 1,
   "metadata": {},
   "outputs": [],
   "source": [
    "import numpy as np\n",
    "import pandas as pd\n",
    "import json\n",
    "from os import listdir\n",
    "import re\n",
    "from scipy.linalg import eig\n",
    "import matplotlib.pyplot as plt\n",
    "from string import ascii_uppercase"
   ]
  },
  {
   "cell_type": "code",
   "execution_count": 2,
   "metadata": {},
   "outputs": [],
   "source": [
    "def pca(X):\n",
    "    ''' Principal Components Analysis '''\n",
    "    cov_matrix = np.cov(X.T) # Transpose b/c np.cov assumes row vars.\n",
    "    evals, evecs = eig(cov_matrix)\n",
    "    idcs = np.argsort(evals)[::-1]\n",
    "    evecs = evecs.real[:, idcs]\n",
    "    evals = evals.real[idcs]\n",
    "\n",
    "    return evecs, evals"
   ]
  },
  {
   "cell_type": "code",
   "execution_count": 3,
   "metadata": {},
   "outputs": [],
   "source": [
    "def preprocess(df):\n",
    "\n",
    "    old_vals = ['Strongly Disagree',\n",
    "                'Disagree',\n",
    "                'Uncertain',\n",
    "                'Agree',\n",
    "                'Strongly Agree',\n",
    "                'No Opinion',\n",
    "                'Did Not Answer',\n",
    "                'Did Not Vote',\n",
    "                'Did not answer',\n",
    "                None]\n",
    "    new_vals = [-1.5,\n",
    "                -1,\n",
    "                0,\n",
    "                1,\n",
    "                1.5,\n",
    "                np.nan,\n",
    "                np.nan,\n",
    "                np.nan,\n",
    "                np.nan,\n",
    "                np.nan]\n",
    "\n",
    "    df = df.replace(old_vals, new_vals)\n",
    "\n",
    "    # Only retain responders with > 75% response rate\n",
    "    num_questions = len(df.columns)\n",
    "    df = df[df.notnull().sum(axis=1) > (num_questions * 0.75)]\n",
    "\n",
    "    # Replace remaining nans with the column mean\n",
    "    df = df.fillna(df.mean())\n",
    "\n",
    "    df = df.sort_index()\n",
    "    return df"
   ]
  },
  {
   "cell_type": "code",
   "execution_count": 4,
   "metadata": {},
   "outputs": [],
   "source": [
    "year = '2021'\n",
    "survey_dir = f'{year}_surveys'"
   ]
  },
  {
   "cell_type": "code",
   "execution_count": 183,
   "metadata": {},
   "outputs": [],
   "source": [
    "fnames_to_slugs = {\n",
    "'2020-10-06-US-EEP-Economic-Recovery.csv': 'economic-recovery',\n",
    "'2020-10-13-US-EEP-Tax-Proposals.csv': 'tax-proposals',\n",
    "'2020-10-21-US-EEP-Auction-Theory.csv': 'auction-theory-2',\n",
    "'2020-11-03-US-EEP-Antitrust-in-the-Digital-Economy.csv': 'antitrust-in-the-digital-economy',\n",
    "'2020-11-24-US-EEP-Student-Debt-Forgiveness.csv': 'student-debt-forgiveness',\n",
    "'2020-12-08-US-EEP-Personnel-Economics.csv': 'personnel-economics',\n",
    "'2020-12-22-US-EEP-Antitrust-Action.csv': 'antitrust-action',\n",
    "'2021-01-13-US-EEP-After-Brexit.csv': 'after-brexit',\n",
    "'2021-02-02-US-EEP-The-US-Minimum-Wage.csv': 'the-us-minimum-wage',\n",
    "'2021-02-08-US-EEP-Coronavirus-Relief.csv': 'coronavirus-relief',\n",
    "'2021-02-23-US-EEP-Short-Positions.csv': 'short-positions',\n",
    "'2021-03-09-US-EEP-Pricing-Emissions.csv': 'pricing-emissions',\n",
    "'2021-03-23-US-EEP-Tackling-Obesity.csv': 'tackling-obesity-2',\n",
    "}"
   ]
  },
  {
   "cell_type": "markdown",
   "metadata": {},
   "source": [
    "# WILO: I NEED TO FIND A WAY TO DISTRIBUTE THE SLUGS OVER QUESTIONS, WHEN OFTEN THERE ARE MORE THAN ONE QUESTION PER SLUG. PROBABLY WILL NEED TO CREATE A NEW SLUG LIST WITH LENGHT OF LEN(QUESTIONS)"
   ]
  },
  {
   "cell_type": "code",
   "execution_count": 185,
   "metadata": {},
   "outputs": [],
   "source": [
    "fnames = sorted(fnames_to_slugs.keys())"
   ]
  },
  {
   "cell_type": "code",
   "execution_count": 188,
   "metadata": {},
   "outputs": [],
   "source": [
    "qdfs = []\n",
    "slugs = []\n",
    "for fname in fnames:\n",
    "    qdf = pd.read_csv(survey_dir + '/' + fname)\n",
    "    qdf = qdf.set_index(qdf['First Name'].str.cat(qdf['Last Name'], sep=' '))\n",
    "    drop_columns = [col for col in qdf.columns if 'Confidence in this topic' in col or 'Please explain your' in col or 'Unnamed' in col]\n",
    "    drop_columns += ['First Name', 'Last Name']\n",
    "    qdf = qdf.drop(columns=drop_columns)\n",
    "    qdf = qdf[qdf.index.notnull()]\n",
    "    n_cols = len(qdf.columns)\n",
    "    if n_cols > 1:\n",
    "        qdf.columns = [f\"Part {ascii_uppercase[i]}: {col}\" for i, col in enumerate(qdf.columns)]\n",
    "    \n",
    "    qdfs += [qdf]\n",
    "    slugs += [fnames_to_slugs[fname]]\n",
    "df = pd.concat(qdfs, axis=1)\n",
    "df.columns = [f\"{i+1}. {col}\" for i, col in enumerate(df.columns)]\n"
   ]
  },
  {
   "cell_type": "code",
   "execution_count": 189,
   "metadata": {},
   "outputs": [],
   "source": [
    "df = preprocess(df)\n"
   ]
  },
  {
   "cell_type": "code",
   "execution_count": 190,
   "metadata": {},
   "outputs": [],
   "source": [
    "X_raw = np.array(df).astype(float)\n",
    "q_means = X_raw.mean(axis=0)\n",
    "q_sds = X_raw.std(axis=0)"
   ]
  },
  {
   "cell_type": "code",
   "execution_count": 191,
   "metadata": {},
   "outputs": [],
   "source": [
    "# Separate responder IDs from row names\n",
    "responder_ids = list(range(len(df)))\n",
    "\n",
    "# Compute +/- 2SD for each question. For yellow highlights.\n",
    "X_raw = np.array(df).astype(float)\n",
    "q_means = X_raw.mean(axis=0)\n",
    "q_sds = X_raw.std(axis=0)\n",
    "igm_top_range =    2 * q_sds # Responses will be centered with q_means in .js\n",
    "igm_bot_range = (-2) * q_sds # Responses will be centered with q_means in .js\n",
    "\n",
    "# Centering the questions\n",
    "X = X_raw - X_raw.mean(axis=0)\n",
    "\n",
    "# Run PCA and compute 2D projection\n",
    "evecs, evals = pca(X)"
   ]
  },
  {
   "cell_type": "code",
   "execution_count": 192,
   "metadata": {},
   "outputs": [],
   "source": [
    "# Sign flipping so politically left is on the left\n",
    "if year == '2021':\n",
    "    evecs[:,0] = -evecs[:,0] #X\n",
    "    evecs[:,1] = -evecs[:,1]\n",
    "\n",
    "# Compute each economists projection in 2D space.\n",
    "proj = np.dot(X, evecs[:, 0:2])\n",
    "\n",
    "# User info dict\n",
    "user_info = {'name': 'You',\n",
    "             'x': 0,\n",
    "             'y': 0,\n",
    "             'responder_id': 0}"
   ]
  },
  {
   "cell_type": "code",
   "execution_count": 193,
   "metadata": {},
   "outputs": [],
   "source": [
    "# Get correlation matrix, sorted by position on x-axis.\n",
    "pc1_order = np.argsort(proj[:, 0])\n",
    "corr_mat = np.corrcoef(X_raw[pc1_order, :])\n",
    "\n",
    "# List of responder info dicts, including user dict\n",
    "points = [user_info]\n",
    "assert(len(df)==len(proj))\n",
    "for i in range(len(proj)):\n",
    "    responder_info = {'name': df.index[i],\n",
    "                      'x': proj[i, 0],\n",
    "                      'y': proj[i, 1],\n",
    "                      'short_name': df.index[i].lower().replace(' ', '-'),\n",
    "                      'pc1_order': int(np.argwhere(pc1_order == i))}\n",
    "    points.append(responder_info)"
   ]
  },
  {
   "cell_type": "code",
   "execution_count": 196,
   "metadata": {},
   "outputs": [],
   "source": [
    "out = {}\n",
    "out['points'] = points\n",
    "out['q_slugs'] = slugs\n",
    "out['questions'] = [re.sub(r\"\\(0+\", \"(\", col) for col in df.columns]\n",
    "out['q_means'] = list(q_means)\n",
    "out['xweights'] = list(evecs[:, 0])\n",
    "out['yweights'] = list(evecs[:, 1])\n",
    "out['X'] = [['%.2f' % el for el in row] for row in X.tolist()]\n",
    "out['corr_mat'] = [['%.2f' % el for el in row]\n",
    "                   for row in corr_mat.tolist()]\n",
    "out['igm_top_range'] = ['%.2f' % el for el in igm_top_range]\n",
    "out['igm_bot_range'] = ['%.2f' % el for el in igm_bot_range]"
   ]
  },
  {
   "cell_type": "code",
   "execution_count": 197,
   "metadata": {},
   "outputs": [
    {
     "data": {
      "image/png": "[encoded data removed]",
      "text/plain": [
       "<Figure size 432x288 with 1 Axes>"
      ]
     },
     "metadata": {
      "image/png": {
       "height": 248,
       "width": 380
      },
      "needs_background": "light"
     },
     "output_type": "display_data"
    }
   ],
   "source": [
    "# Write to file\n",
    "f = open(\"pca_results_\" + year + \".json\", \"w\")\n",
    "json.dump(out, f, indent=2)\n",
    "f.close()\n",
    "\n",
    "# Plot responders in 2D space\n",
    "plt.figure()\n",
    "plt.scatter(proj[:, 0], proj[:, 1])\n",
    "plt.show()"
   ]
  },
  {
   "cell_type": "code",
   "execution_count": null,
   "metadata": {},
   "outputs": [],
   "source": []
  }
 ],
 "metadata": {
  "kernelspec": {
   "display_name": "Python 3",
   "language": "python",
   "name": "python3"
  },
  "language_info": {
   "codemirror_mode": {
    "name": "ipython",
    "version": 3
   },
   "file_extension": ".py",
   "mimetype": "text/x-python",
   "name": "python",
   "nbconvert_exporter": "python",
   "pygments_lexer": "ipython3",
   "version": "3.6.10"
  }
 },
 "nbformat": 4,
 "nbformat_minor": 4
}
