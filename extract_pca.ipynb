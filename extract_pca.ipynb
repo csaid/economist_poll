{
 "cells": [
  {
   "cell_type": "code",
   "execution_count": 360,
   "metadata": {},
   "outputs": [],
   "source": [
    "import numpy as np\n",
    "import pandas as pd\n",
    "import json\n",
    "from os import listdir\n",
    "import re\n",
    "from scipy.linalg import eig\n",
    "import matplotlib.pyplot as plt\n",
    "from string import ascii_uppercase\n",
    "import unidecode"
   ]
  },
  {
   "cell_type": "code",
   "execution_count": 361,
   "metadata": {},
   "outputs": [],
   "source": [
    "def pca(X):\n",
    "    ''' Principal Components Analysis '''\n",
    "    cov_matrix = np.cov(X.T) # Transpose b/c np.cov assumes row vars.\n",
    "    evals, evecs = eig(cov_matrix)\n",
    "    idcs = np.argsort(evals)[::-1]\n",
    "    evecs = evecs.real[:, idcs]\n",
    "    evals = evals.real[idcs]\n",
    "\n",
    "    return evecs, evals"
   ]
  },
  {
   "cell_type": "code",
   "execution_count": 362,
   "metadata": {},
   "outputs": [],
   "source": [
    "def preprocess(df):\n",
    "\n",
    "    old_vals = ['Strongly Disagree',\n",
    "                'Disagree',\n",
    "                'Uncertain',\n",
    "                'Agree',\n",
    "                'Strongly Agree',\n",
    "                'No Opinion',\n",
    "                'Did Not Answer',\n",
    "                'Did Not Vote',\n",
    "                'Did not answer',\n",
    "                None]\n",
    "    new_vals = [-1.5,\n",
    "                -1,\n",
    "                0,\n",
    "                1,\n",
    "                1.5,\n",
    "                np.nan,\n",
    "                np.nan,\n",
    "                np.nan,\n",
    "                np.nan,\n",
    "                np.nan]\n",
    "\n",
    "    df = df.replace(old_vals, new_vals)\n",
    "\n",
    "    # Only retain responders with > 75% response rate\n",
    "    num_questions = len(df.columns)\n",
    "    df = df[df.notnull().sum(axis=1) > (num_questions * 0.75)]\n",
    "\n",
    "    # Replace remaining nans with the column mean\n",
    "    df = df.fillna(df.mean())\n",
    "\n",
    "    df = df.sort_index()\n",
    "    return df"
   ]
  },
  {
   "cell_type": "code",
   "execution_count": 363,
   "metadata": {},
   "outputs": [],
   "source": [
    "year = '2023'\n",
    "survey_dir = f'{year}_surveys'"
   ]
  },
  {
   "cell_type": "code",
   "execution_count": 364,
   "metadata": {},
   "outputs": [],
   "source": [
    "fnames_to_slugs = {\n",
    "\n",
    "'2023-01-18-US-EEP-Non-Compete-Clauses.csv': 'non-compete-clauses',\n",
    "'2023-05-09-US-EEP-TikTok.csv': 'tiktok',\n",
    "'2023-06-21-US-EEP-Junk-Fees.csv': 'junk-fees',\n",
    "'2023-09-21-US-EEP-AI-and-Market-Power.csv': 'ai-and-market-power',\n",
    "'2023-09-21-US-EEP-AI-and-the-Labor-Market.csv': 'ai-and-the-labor-market',\n",
    "'2023-09-29-US-EEP-Subsidizing-Green-Technology.csv': 'subsidizing-green-technology',\n",
    "'2023-09-29-US-EEP-Responses-To-Market-Power.csv': 'responses-to-market-power',\n",
    "\n",
    "}\n",
    "\n",
    "\n",
    "\n",
    "fnames_to_headers = {\n",
    "\n",
    "'2023-01-18-US-EEP-Non-Compete-Clauses.csv': 'Non-Compete Clauses',\n",
    "'2023-05-09-US-EEP-TikTok.csv': 'TikTok',\n",
    "'2023-06-21-US-EEP-Junk-Fees.csv': 'Junk Fees',\n",
    "'2023-09-21-US-EEP-AI-and-Market-Power.csv': 'AI and Market Power',\n",
    "'2023-09-21-US-EEP-AI-and-the-Labor-Market.csv': 'AI and the Labor Market',\n",
    "'2023-09-29-US-EEP-Subsidizing-Green-Technology.csv': 'Subsidizing Green Technology',\n",
    "'2023-09-29-US-EEP-Responses-To-Market-Power.csv': 'Responses to Market Power',\n",
    "\n",
    "}\n",
    "\n",
    "fnames_to_dates = {fname: fname[0:10] for fname in fnames_to_headers.keys()}"
   ]
  },
  {
   "cell_type": "code",
   "execution_count": 365,
   "metadata": {},
   "outputs": [
    {
     "data": {
      "text/plain": [
       "{'2023-01-18-US-EEP-Non-Compete-Clauses.csv': '2023-01-18',\n",
       " '2023-05-09-US-EEP-TikTok.csv': '2023-05-09',\n",
       " '2023-06-21-US-EEP-Junk-Fees.csv': '2023-06-21',\n",
       " '2023-09-21-US-EEP-AI-and-Market-Power.csv': '2023-09-21',\n",
       " '2023-09-21-US-EEP-AI-and-the-Labor-Market.csv': '2023-09-21',\n",
       " '2023-09-29-US-EEP-Subsidizing-Green-Technology.csv': '2023-09-29',\n",
       " '2023-09-29-US-EEP-Responses-To-Market-Power.csv': '2023-09-29'}"
      ]
     },
     "execution_count": 365,
     "metadata": {},
     "output_type": "execute_result"
    }
   ],
   "source": [
    "fnames_to_dates"
   ]
  },
  {
   "cell_type": "code",
   "execution_count": 367,
   "metadata": {},
   "outputs": [],
   "source": [
    "fnames = sorted(fnames_to_slugs.keys())\n",
    "fnames = ['2023-06-21-US-EEP-Junk-Fees.csv'] + [fname for fname in fnames if fname != '2023-06-21-US-EEP-Junk-Fees.csv']\n",
    "\n",
    "qdfs = []\n",
    "slugs = []\n",
    "headers = []\n",
    "dates = []\n",
    "for fname in fnames:\n",
    "    qdf = pd.read_csv(survey_dir + '/' + fname)\n",
    "    qdf = qdf.set_index(qdf['First Name'].str.cat(qdf['Last Name'], sep=' '))\n",
    "    drop_columns = [col for col in qdf.columns if 'Confidence in this topic' in col or 'Please explain your' in col or 'Unnamed' in col]\n",
    "    drop_columns += ['First Name', 'Last Name']\n",
    "    qdf = qdf.drop(columns=drop_columns)\n",
    "    qdf = qdf[qdf.index.notnull()]\n",
    "    n_cols = len(qdf.columns)\n",
    "    if n_cols > 1:\n",
    "    #     qdf.columns = [f\"Part {ascii_uppercase[i]}: {col}\" for i, col in enumerate(qdf.columns)]\n",
    "        qdf.columns = [f\"{i+1}. {col}\" for i, col in enumerate(qdf.columns)]\n",
    "    \n",
    "    qdfs += [qdf]\n",
    "    for col in qdf.columns:\n",
    "        slugs += [fnames_to_slugs[fname]]\n",
    "        headers += [fnames_to_headers[fname]]\n",
    "        dates += [fnames_to_dates[fname]]\n",
    "\n",
    "df = pd.concat(qdfs, axis=1)\n",
    "# df.columns = [f\"{i+1}. {col}\" for i, col in enumerate(df.columns)]\n"
   ]
  },
  {
   "cell_type": "code",
   "execution_count": 368,
   "metadata": {},
   "outputs": [],
   "source": [
    "df = preprocess(df)"
   ]
  },
  {
   "cell_type": "code",
   "execution_count": 369,
   "metadata": {},
   "outputs": [],
   "source": [
    "X_raw = np.array(df).astype(float)\n",
    "q_means = X_raw.mean(axis=0)\n",
    "q_sds = X_raw.std(axis=0)"
   ]
  },
  {
   "cell_type": "code",
   "execution_count": 370,
   "metadata": {},
   "outputs": [],
   "source": [
    "# Separate responder IDs from row names\n",
    "responder_ids = list(range(len(df)))\n",
    "\n",
    "# Compute +/- 2SD for each question. For yellow highlights.\n",
    "X_raw = np.array(df).astype(float)\n",
    "q_means = X_raw.mean(axis=0)\n",
    "q_sds = X_raw.std(axis=0)\n",
    "igm_top_range =    2 * q_sds # Responses will be centered with q_means in .js\n",
    "igm_bot_range = (-2) * q_sds # Responses will be centered with q_means in .js\n",
    "\n",
    "# Centering the questions\n",
    "X = X_raw - X_raw.mean(axis=0)\n",
    "\n",
    "# Run PCA and compute 2D projection\n",
    "evecs, evals = pca(X)"
   ]
  },
  {
   "cell_type": "code",
   "execution_count": 371,
   "metadata": {},
   "outputs": [
    {
     "name": "stdout",
     "output_type": "stream",
     "text": [
      "hi\n"
     ]
    }
   ],
   "source": [
    "if year in ('2021', '2023'):\n",
    "    evecs[:,1] = evecs[:,1] #X\n",
    "    evecs[:,0] = -evecs[:,0]\n",
    "    print('hi')\n",
    "    \n",
    "# Compute each economists projection in 2D space.\n",
    "proj = np.dot(X, evecs[:, 0:2])\n",
    "\n",
    "# Sign flipping so politically left is on the left\n",
    "\n",
    "\n",
    "# User info dict\n",
    "user_info = {'name': 'You',\n",
    "             'x': 0,\n",
    "             'y': 0,\n",
    "             'responder_id': 0}"
   ]
  },
  {
   "cell_type": "code",
   "execution_count": 372,
   "metadata": {},
   "outputs": [],
   "source": [
    "# Get correlation matrix, sorted by position on x-axis.\n",
    "pc1_order = np.argsort(proj[:, 0])\n",
    "corr_mat = np.corrcoef(X_raw[pc1_order, :])\n",
    "\n",
    "# List of responder info dicts, including user dict\n",
    "points = [user_info]\n",
    "assert(len(df)==len(proj))\n",
    "for i in range(len(proj)):\n",
    "    responder_info = {'name': df.index[i],\n",
    "                      'x': proj[i, 0],\n",
    "                      'y': proj[i, 1],\n",
    "                      'short_name': unidecode.unidecode(df.index[i].lower().replace(' ', '-')),\n",
    "                      'pc1_order': int(np.argwhere(pc1_order == i))}\n",
    "    points.append(responder_info)"
   ]
  },
  {
   "cell_type": "code",
   "execution_count": 373,
   "metadata": {},
   "outputs": [],
   "source": [
    "out = {}\n",
    "out['points'] = points\n",
    "out['q_slugs'] = slugs\n",
    "out['q_headers'] = headers\n",
    "out['q_dates'] = dates\n",
    "out['questions'] = [re.sub(r\"\\(0+\", \"(\", col) for col in df.columns]\n",
    "out['q_means'] = list(q_means)\n",
    "out['xweights'] = list(evecs[:, 0])\n",
    "out['yweights'] = list(evecs[:, 1])\n",
    "out['X'] = [['%.2f' % el for el in row] for row in X.tolist()]\n",
    "out['corr_mat'] = [['%.2f' % el for el in row]\n",
    "                   for row in corr_mat.tolist()]\n",
    "out['igm_top_range'] = ['%.2f' % el for el in igm_top_range]\n",
    "out['igm_bot_range'] = ['%.2f' % el for el in igm_bot_range]"
   ]
  },
  {
   "cell_type": "code",
   "execution_count": 374,
   "metadata": {},
   "outputs": [
    {
     "data": {
      "image/png": "[encoded data removed]",
      "text/plain": [
       "<Figure size 640x480 with 1 Axes>"
      ]
     },
     "metadata": {},
     "output_type": "display_data"
    }
   ],
   "source": [
    "# Write to file\n",
    "f = open(\"pca_results_\" + year + \".json\", \"w\")\n",
    "json.dump(out, f, indent=2)\n",
    "f.close()\n",
    "\n",
    "# Plot responders in 2D space\n",
    "plt.figure()\n",
    "plt.scatter(proj[:, 0], proj[:, 1])\n",
    "plt.show()"
   ]
  },
  {
   "cell_type": "code",
   "execution_count": 375,
   "metadata": {},
   "outputs": [
    {
     "data": {
      "text/plain": [
       "(19, 19)"
      ]
     },
     "execution_count": 375,
     "metadata": {},
     "output_type": "execute_result"
    }
   ],
   "source": [
    "len(out['q_headers']), len(out['questions'])"
   ]
  },
  {
   "cell_type": "code",
   "execution_count": null,
   "metadata": {},
   "outputs": [],
   "source": [
    "out['questions']"
   ]
  },
  {
   "cell_type": "code",
   "execution_count": 376,
   "metadata": {},
   "outputs": [
    {
     "data": {
      "text/plain": [
       "['2023-06-21',\n",
       " '2023-06-21',\n",
       " '2023-06-21',\n",
       " '2023-01-18',\n",
       " '2023-01-18',\n",
       " '2023-01-18',\n",
       " '2023-05-09',\n",
       " '2023-05-09',\n",
       " '2023-09-21',\n",
       " '2023-09-21',\n",
       " '2023-09-21',\n",
       " '2023-09-21',\n",
       " '2023-09-21',\n",
       " '2023-09-21',\n",
       " '2023-09-29',\n",
       " '2023-09-29',\n",
       " '2023-09-29',\n",
       " '2023-09-29',\n",
       " '2023-09-29']"
      ]
     },
     "execution_count": 376,
     "metadata": {},
     "output_type": "execute_result"
    }
   ],
   "source": [
    "out['q_dates']"
   ]
  },
  {
   "cell_type": "code",
   "execution_count": null,
   "metadata": {},
   "outputs": [],
   "source": []
  }
 ],
 "metadata": {
  "kernelspec": {
   "display_name": "Python 3 (ipykernel)",
   "language": "python",
   "name": "python3"
  },
  "language_info": {
   "codemirror_mode": {
    "name": "ipython",
    "version": 3
   },
   "file_extension": ".py",
   "mimetype": "text/x-python",
   "name": "python",
   "nbconvert_exporter": "python",
   "pygments_lexer": "ipython3",
   "version": "3.10.11"
  }
 },
 "nbformat": 4,
 "nbformat_minor": 4
}
